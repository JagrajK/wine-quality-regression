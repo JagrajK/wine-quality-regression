{
 "cells": [
  {
   "cell_type": "markdown",
   "id": "37125746",
   "metadata": {},
   "source": [
    "In this project we will train two models on the UCI Wine Quality Dataset (https://archive.ics.uci.edu/dataset/186/wine+quality). Both models will be predicting the quality score of wines, given the other variables and the colour of the wine. We will first perform an OLS linear regression, and then train an artificial neural network, before comparing the two."
   ]
  },
  {
   "cell_type": "code",
   "execution_count": 1,
   "id": "4032f4a3",
   "metadata": {},
   "outputs": [],
   "source": [
    "# Import libraries\n",
    "import pandas as pd\n",
    "import numpy as np\n",
    "import torch\n",
    "from torch import nn\n",
    "from sklearn.model_selection import train_test_split\n",
    "from sklearn.linear_model import LinearRegression\n",
    "import matplotlib.pyplot as plt"
   ]
  },
  {
   "cell_type": "markdown",
   "id": "885170ba",
   "metadata": {},
   "source": [
    "Firstly, we will need to import and process our data. It is formatted slightly differently, so we will first make it into a pandas dataframe, combining red and white wines. I have added a binary colour column denoting whether the wine is red or white."
   ]
  },
  {
   "cell_type": "code",
   "execution_count": 2,
   "id": "62c2dd6e",
   "metadata": {},
   "outputs": [],
   "source": [
    "# Import data\n",
    "dfw = pd.read_csv('winequality-white.csv', header = None)\n",
    "dfr = pd.read_csv('winequality-red.csv', header = None)"
   ]
  },
  {
   "cell_type": "code",
   "execution_count": 3,
   "id": "9405a635",
   "metadata": {},
   "outputs": [],
   "source": [
    "column_labels = dfw.iloc[0].str.split(';').values[0]\n",
    "\n",
    "dfw = dfw[1:].apply(lambda x: x.str.split(';').values[0], axis = 1)\n",
    "dfr = dfr[1:].apply(lambda x: x.str.split(';').values[0], axis = 1)\n",
    "\n",
    "dfw = pd.DataFrame(dfw.tolist())\n",
    "dfr = pd.DataFrame(dfr.tolist())\n",
    "\n",
    "dfw.columns = column_labels\n",
    "dfr.columns = column_labels"
   ]
  },
  {
   "cell_type": "code",
   "execution_count": 4,
   "id": "f71f04a9",
   "metadata": {},
   "outputs": [],
   "source": [
    "# Add a colour column for denoting whether the wine is white or red\n",
    "dfr.insert(loc = len(dfr.columns) - 1, column = \"colour\", value = 1)\n",
    "dfw.insert(loc = len(dfw.columns) - 1, column = \"colour\", value = 0)"
   ]
  },
  {
   "cell_type": "code",
   "execution_count": 5,
   "id": "43c85d99",
   "metadata": {},
   "outputs": [],
   "source": [
    "# Combine the white and red wine dataframes, and then 'shuffle' them\n",
    "df = pd.concat([dfw,dfr], ignore_index = True)\n",
    "\n",
    "shuffled_df = df.sample(frac = 1, random_state = 42)\n",
    "shuffled_df = shuffled_df.astype(float)"
   ]
  },
  {
   "cell_type": "code",
   "execution_count": 6,
   "id": "3190bdaa",
   "metadata": {},
   "outputs": [
    {
     "data": {
      "text/html": [
       "<div>\n",
       "<style scoped>\n",
       "    .dataframe tbody tr th:only-of-type {\n",
       "        vertical-align: middle;\n",
       "    }\n",
       "\n",
       "    .dataframe tbody tr th {\n",
       "        vertical-align: top;\n",
       "    }\n",
       "\n",
       "    .dataframe thead th {\n",
       "        text-align: right;\n",
       "    }\n",
       "</style>\n",
       "<table border=\"1\" class=\"dataframe\">\n",
       "  <thead>\n",
       "    <tr style=\"text-align: right;\">\n",
       "      <th></th>\n",
       "      <th>fixed acidity</th>\n",
       "      <th>\"volatile acidity\"</th>\n",
       "      <th>\"citric acid\"</th>\n",
       "      <th>\"residual sugar\"</th>\n",
       "      <th>\"chlorides\"</th>\n",
       "      <th>\"free sulfur dioxide\"</th>\n",
       "      <th>\"total sulfur dioxide\"</th>\n",
       "      <th>\"density\"</th>\n",
       "      <th>\"pH\"</th>\n",
       "      <th>\"sulphates\"</th>\n",
       "      <th>\"alcohol\"</th>\n",
       "      <th>colour</th>\n",
       "      <th>\"quality\"</th>\n",
       "    </tr>\n",
       "  </thead>\n",
       "  <tbody>\n",
       "    <tr>\n",
       "      <th>3103</th>\n",
       "      <td>7.0</td>\n",
       "      <td>0.25</td>\n",
       "      <td>0.45</td>\n",
       "      <td>2.3</td>\n",
       "      <td>0.045</td>\n",
       "      <td>40.0</td>\n",
       "      <td>118.0</td>\n",
       "      <td>0.99064</td>\n",
       "      <td>3.16</td>\n",
       "      <td>0.48</td>\n",
       "      <td>11.9</td>\n",
       "      <td>0.0</td>\n",
       "      <td>7.0</td>\n",
       "    </tr>\n",
       "    <tr>\n",
       "      <th>1419</th>\n",
       "      <td>7.6</td>\n",
       "      <td>0.14</td>\n",
       "      <td>0.74</td>\n",
       "      <td>1.6</td>\n",
       "      <td>0.040</td>\n",
       "      <td>27.0</td>\n",
       "      <td>103.0</td>\n",
       "      <td>0.99160</td>\n",
       "      <td>3.07</td>\n",
       "      <td>0.40</td>\n",
       "      <td>10.8</td>\n",
       "      <td>0.0</td>\n",
       "      <td>7.0</td>\n",
       "    </tr>\n",
       "    <tr>\n",
       "      <th>4761</th>\n",
       "      <td>6.2</td>\n",
       "      <td>0.15</td>\n",
       "      <td>0.27</td>\n",
       "      <td>11.0</td>\n",
       "      <td>0.035</td>\n",
       "      <td>46.0</td>\n",
       "      <td>116.0</td>\n",
       "      <td>0.99602</td>\n",
       "      <td>3.12</td>\n",
       "      <td>0.38</td>\n",
       "      <td>9.1</td>\n",
       "      <td>0.0</td>\n",
       "      <td>6.0</td>\n",
       "    </tr>\n",
       "    <tr>\n",
       "      <th>4690</th>\n",
       "      <td>6.7</td>\n",
       "      <td>0.16</td>\n",
       "      <td>0.32</td>\n",
       "      <td>12.5</td>\n",
       "      <td>0.035</td>\n",
       "      <td>18.0</td>\n",
       "      <td>156.0</td>\n",
       "      <td>0.99666</td>\n",
       "      <td>2.88</td>\n",
       "      <td>0.36</td>\n",
       "      <td>9.0</td>\n",
       "      <td>0.0</td>\n",
       "      <td>6.0</td>\n",
       "    </tr>\n",
       "    <tr>\n",
       "      <th>4032</th>\n",
       "      <td>6.8</td>\n",
       "      <td>0.27</td>\n",
       "      <td>0.22</td>\n",
       "      <td>17.8</td>\n",
       "      <td>0.034</td>\n",
       "      <td>16.0</td>\n",
       "      <td>116.0</td>\n",
       "      <td>0.99890</td>\n",
       "      <td>3.07</td>\n",
       "      <td>0.53</td>\n",
       "      <td>9.2</td>\n",
       "      <td>0.0</td>\n",
       "      <td>5.0</td>\n",
       "    </tr>\n",
       "    <tr>\n",
       "      <th>...</th>\n",
       "      <td>...</td>\n",
       "      <td>...</td>\n",
       "      <td>...</td>\n",
       "      <td>...</td>\n",
       "      <td>...</td>\n",
       "      <td>...</td>\n",
       "      <td>...</td>\n",
       "      <td>...</td>\n",
       "      <td>...</td>\n",
       "      <td>...</td>\n",
       "      <td>...</td>\n",
       "      <td>...</td>\n",
       "      <td>...</td>\n",
       "    </tr>\n",
       "    <tr>\n",
       "      <th>3772</th>\n",
       "      <td>6.3</td>\n",
       "      <td>0.24</td>\n",
       "      <td>0.29</td>\n",
       "      <td>13.7</td>\n",
       "      <td>0.035</td>\n",
       "      <td>53.0</td>\n",
       "      <td>134.0</td>\n",
       "      <td>0.99567</td>\n",
       "      <td>3.17</td>\n",
       "      <td>0.38</td>\n",
       "      <td>10.6</td>\n",
       "      <td>0.0</td>\n",
       "      <td>6.0</td>\n",
       "    </tr>\n",
       "    <tr>\n",
       "      <th>5191</th>\n",
       "      <td>6.9</td>\n",
       "      <td>0.36</td>\n",
       "      <td>0.25</td>\n",
       "      <td>2.4</td>\n",
       "      <td>0.098</td>\n",
       "      <td>5.0</td>\n",
       "      <td>16.0</td>\n",
       "      <td>0.99640</td>\n",
       "      <td>3.41</td>\n",
       "      <td>0.60</td>\n",
       "      <td>10.1</td>\n",
       "      <td>1.0</td>\n",
       "      <td>6.0</td>\n",
       "    </tr>\n",
       "    <tr>\n",
       "      <th>5226</th>\n",
       "      <td>13.4</td>\n",
       "      <td>0.27</td>\n",
       "      <td>0.62</td>\n",
       "      <td>2.6</td>\n",
       "      <td>0.082</td>\n",
       "      <td>6.0</td>\n",
       "      <td>21.0</td>\n",
       "      <td>1.00020</td>\n",
       "      <td>3.16</td>\n",
       "      <td>0.67</td>\n",
       "      <td>9.7</td>\n",
       "      <td>1.0</td>\n",
       "      <td>6.0</td>\n",
       "    </tr>\n",
       "    <tr>\n",
       "      <th>5390</th>\n",
       "      <td>8.9</td>\n",
       "      <td>0.40</td>\n",
       "      <td>0.51</td>\n",
       "      <td>2.6</td>\n",
       "      <td>0.052</td>\n",
       "      <td>13.0</td>\n",
       "      <td>27.0</td>\n",
       "      <td>0.99500</td>\n",
       "      <td>3.32</td>\n",
       "      <td>0.90</td>\n",
       "      <td>13.4</td>\n",
       "      <td>1.0</td>\n",
       "      <td>7.0</td>\n",
       "    </tr>\n",
       "    <tr>\n",
       "      <th>860</th>\n",
       "      <td>8.1</td>\n",
       "      <td>0.27</td>\n",
       "      <td>0.35</td>\n",
       "      <td>1.7</td>\n",
       "      <td>0.030</td>\n",
       "      <td>38.0</td>\n",
       "      <td>103.0</td>\n",
       "      <td>0.99255</td>\n",
       "      <td>3.22</td>\n",
       "      <td>0.63</td>\n",
       "      <td>10.4</td>\n",
       "      <td>0.0</td>\n",
       "      <td>8.0</td>\n",
       "    </tr>\n",
       "  </tbody>\n",
       "</table>\n",
       "<p>6497 rows × 13 columns</p>\n",
       "</div>"
      ],
      "text/plain": [
       "      fixed acidity  \"volatile acidity\"  \"citric acid\"  \"residual sugar\"  \\\n",
       "3103            7.0                0.25           0.45               2.3   \n",
       "1419            7.6                0.14           0.74               1.6   \n",
       "4761            6.2                0.15           0.27              11.0   \n",
       "4690            6.7                0.16           0.32              12.5   \n",
       "4032            6.8                0.27           0.22              17.8   \n",
       "...             ...                 ...            ...               ...   \n",
       "3772            6.3                0.24           0.29              13.7   \n",
       "5191            6.9                0.36           0.25               2.4   \n",
       "5226           13.4                0.27           0.62               2.6   \n",
       "5390            8.9                0.40           0.51               2.6   \n",
       "860             8.1                0.27           0.35               1.7   \n",
       "\n",
       "      \"chlorides\"  \"free sulfur dioxide\"  \"total sulfur dioxide\"  \"density\"  \\\n",
       "3103        0.045                   40.0                   118.0    0.99064   \n",
       "1419        0.040                   27.0                   103.0    0.99160   \n",
       "4761        0.035                   46.0                   116.0    0.99602   \n",
       "4690        0.035                   18.0                   156.0    0.99666   \n",
       "4032        0.034                   16.0                   116.0    0.99890   \n",
       "...           ...                    ...                     ...        ...   \n",
       "3772        0.035                   53.0                   134.0    0.99567   \n",
       "5191        0.098                    5.0                    16.0    0.99640   \n",
       "5226        0.082                    6.0                    21.0    1.00020   \n",
       "5390        0.052                   13.0                    27.0    0.99500   \n",
       "860         0.030                   38.0                   103.0    0.99255   \n",
       "\n",
       "      \"pH\"  \"sulphates\"  \"alcohol\"  colour  \"quality\"  \n",
       "3103  3.16         0.48       11.9     0.0        7.0  \n",
       "1419  3.07         0.40       10.8     0.0        7.0  \n",
       "4761  3.12         0.38        9.1     0.0        6.0  \n",
       "4690  2.88         0.36        9.0     0.0        6.0  \n",
       "4032  3.07         0.53        9.2     0.0        5.0  \n",
       "...    ...          ...        ...     ...        ...  \n",
       "3772  3.17         0.38       10.6     0.0        6.0  \n",
       "5191  3.41         0.60       10.1     1.0        6.0  \n",
       "5226  3.16         0.67        9.7     1.0        6.0  \n",
       "5390  3.32         0.90       13.4     1.0        7.0  \n",
       "860   3.22         0.63       10.4     0.0        8.0  \n",
       "\n",
       "[6497 rows x 13 columns]"
      ]
     },
     "execution_count": 6,
     "metadata": {},
     "output_type": "execute_result"
    }
   ],
   "source": [
    "shuffled_df"
   ]
  },
  {
   "cell_type": "code",
   "execution_count": 7,
   "id": "c0db43fc",
   "metadata": {},
   "outputs": [],
   "source": [
    "# Set up arrays for training\n",
    "X = shuffled_df.iloc[:, :-1].to_numpy()\n",
    "Y = shuffled_df.iloc[:,-1].to_numpy()"
   ]
  },
  {
   "cell_type": "code",
   "execution_count": 8,
   "id": "9a3332d0",
   "metadata": {},
   "outputs": [],
   "source": [
    "# Create a train test split\n",
    "X_train, X_test, Y_train, Y_test = train_test_split(X, Y,\n",
    "                                                    test_size = 0.2,\n",
    "                                                    random_state = 21)"
   ]
  },
  {
   "cell_type": "code",
   "execution_count": 9,
   "id": "95671986",
   "metadata": {},
   "outputs": [],
   "source": [
    "# A measure of loss (Mean Absolute Error) which will come in handy later\n",
    "def loss1(true, pred):\n",
    "    return abs(true-pred).mean()"
   ]
  },
  {
   "cell_type": "markdown",
   "id": "0f032c2f",
   "metadata": {},
   "source": [
    "We can now begin modelling. We will first begin with an OLS linear regression which have an analytic solution (and can be computed using models such as the one in sklearn)."
   ]
  },
  {
   "cell_type": "code",
   "execution_count": 10,
   "id": "1feec3ce",
   "metadata": {},
   "outputs": [
    {
     "data": {
      "text/plain": [
       "LinearRegression()"
      ]
     },
     "execution_count": 10,
     "metadata": {},
     "output_type": "execute_result"
    }
   ],
   "source": [
    "model_l = LinearRegression()\n",
    "model_l.fit(X_train, Y_train)"
   ]
  },
  {
   "cell_type": "code",
   "execution_count": 11,
   "id": "989e85be",
   "metadata": {},
   "outputs": [],
   "source": [
    "# Work out average loss\n",
    "test_preds_l = model_l.predict(X_test)\n",
    "test_loss_l = loss1(Y_test, test_preds_l)\n",
    "\n",
    "# Round the results of our model and work out accuracy\n",
    "def accuracy(preds, real):\n",
    "    rounded_preds = np.round(preds).astype(int)\n",
    "    cumsum = 0\n",
    "    for i in range(len(preds)):\n",
    "        if rounded_preds[i] == real[i]:\n",
    "            cumsum += 1\n",
    "    return cumsum/len(preds) * 100\n",
    "\n",
    "test_acc_l = accuracy(test_preds_l, Y_test)"
   ]
  },
  {
   "cell_type": "code",
   "execution_count": 12,
   "id": "457a6c1b",
   "metadata": {},
   "outputs": [
    {
     "name": "stdout",
     "output_type": "stream",
     "text": [
      "The loss is 0.6017 for the linear regression model. This means that on average, our prediction is 0.6017 away from the actual result.\n",
      "The accuracy of the linear regression model is 50.54%.\n"
     ]
    }
   ],
   "source": [
    "print(f'The loss is {test_loss_l:.4f} for the linear regression model. This means that on average, our prediction is {test_loss_l:.4f} away from the actual result.')\n",
    "print(f'The accuracy of the linear regression model is {test_acc_l:.2f}%.')"
   ]
  },
  {
   "cell_type": "markdown",
   "id": "cdd88f99",
   "metadata": {},
   "source": [
    "Below we have created a table which allows us to roughly see how the different variables affect the quality score predictions (in this particular model)."
   ]
  },
  {
   "cell_type": "code",
   "execution_count": 13,
   "id": "9b0c9153",
   "metadata": {},
   "outputs": [
    {
     "name": "stdout",
     "output_type": "stream",
     "text": [
      "The intercept for this model is quite high (94.53), meaning that factors which negatively affect quality are going to have negative coefficients, while factors that positively affect quality will have smaller positive coefficients.\n"
     ]
    },
    {
     "data": {
      "text/html": [
       "<div>\n",
       "<style scoped>\n",
       "    .dataframe tbody tr th:only-of-type {\n",
       "        vertical-align: middle;\n",
       "    }\n",
       "\n",
       "    .dataframe tbody tr th {\n",
       "        vertical-align: top;\n",
       "    }\n",
       "\n",
       "    .dataframe thead th {\n",
       "        text-align: right;\n",
       "    }\n",
       "</style>\n",
       "<table border=\"1\" class=\"dataframe\">\n",
       "  <thead>\n",
       "    <tr style=\"text-align: right;\">\n",
       "      <th></th>\n",
       "      <th>fixed acidity</th>\n",
       "      <th>\"volatile acidity\"</th>\n",
       "      <th>\"citric acid\"</th>\n",
       "      <th>\"residual sugar\"</th>\n",
       "      <th>\"chlorides\"</th>\n",
       "      <th>\"free sulfur dioxide\"</th>\n",
       "      <th>\"total sulfur dioxide\"</th>\n",
       "      <th>\"density\"</th>\n",
       "      <th>\"pH\"</th>\n",
       "      <th>\"sulphates\"</th>\n",
       "      <th>\"alcohol\"</th>\n",
       "      <th>\"colour\"</th>\n",
       "    </tr>\n",
       "  </thead>\n",
       "  <tbody>\n",
       "    <tr>\n",
       "      <th>0</th>\n",
       "      <td>0.086088</td>\n",
       "      <td>-1.513881</td>\n",
       "      <td>-0.144165</td>\n",
       "      <td>0.05893</td>\n",
       "      <td>-0.668972</td>\n",
       "      <td>0.003759</td>\n",
       "      <td>-0.001191</td>\n",
       "      <td>-93.837554</td>\n",
       "      <td>0.401612</td>\n",
       "      <td>0.781722</td>\n",
       "      <td>0.240924</td>\n",
       "      <td>0.321116</td>\n",
       "    </tr>\n",
       "  </tbody>\n",
       "</table>\n",
       "</div>"
      ],
      "text/plain": [
       "   fixed acidity  \"volatile acidity\"  \"citric acid\"  \"residual sugar\"  \\\n",
       "0       0.086088           -1.513881      -0.144165           0.05893   \n",
       "\n",
       "   \"chlorides\"  \"free sulfur dioxide\"  \"total sulfur dioxide\"  \"density\"  \\\n",
       "0    -0.668972               0.003759               -0.001191 -93.837554   \n",
       "\n",
       "       \"pH\"  \"sulphates\"  \"alcohol\"  \"colour\"  \n",
       "0  0.401612     0.781722   0.240924  0.321116  "
      ]
     },
     "execution_count": 13,
     "metadata": {},
     "output_type": "execute_result"
    }
   ],
   "source": [
    "column_labels.pop()\n",
    "column_labels.append('\"colour\"')\n",
    "coefficients = pd.DataFrame([model_l.coef_],\n",
    "                            columns = column_labels)\n",
    "print(f'The intercept for this model is quite high ({model_l.intercept_:.4}), meaning that factors which negatively affect quality are going to have negative coefficients, while factors that positively affect quality will have smaller positive coefficients.')\n",
    "coefficients"
   ]
  },
  {
   "cell_type": "code",
   "execution_count": 14,
   "id": "a9b5233e",
   "metadata": {},
   "outputs": [
    {
     "data": {
      "image/png": "[encoded data removed]",
      "text/plain": [
       "<Figure size 432x288 with 1 Axes>"
      ]
     },
     "metadata": {
      "needs_background": "light"
     },
     "output_type": "display_data"
    }
   ],
   "source": [
    "plt.bar(column_labels, model_l.coef_)\n",
    "plt.title('Coefficients of the different independent variables')\n",
    "plt.xticks(rotation = 90)\n",
    "plt.show()"
   ]
  },
  {
   "cell_type": "markdown",
   "id": "f362788e",
   "metadata": {},
   "source": [
    "From the bar chart above, it looks like density strongly negatively effects the quality. We will make another bar plot where we can observe the other variables more closely."
   ]
  },
  {
   "cell_type": "code",
   "execution_count": 15,
   "id": "4c2e61d2",
   "metadata": {},
   "outputs": [
    {
     "data": {
      "image/png": "[encoded data removed]",
      "text/plain": [
       "<Figure size 432x288 with 1 Axes>"
      ]
     },
     "metadata": {
      "needs_background": "light"
     },
     "output_type": "display_data"
    }
   ],
   "source": [
    "plt.bar(column_labels, model_l.coef_)\n",
    "plt.title('Coefficients of the different independent variables')\n",
    "plt.xticks(rotation = 90)\n",
    "plt.ylim(-2, 1)\n",
    "plt.show()"
   ]
  },
  {
   "cell_type": "markdown",
   "id": "8349d422",
   "metadata": {},
   "source": [
    "Here we can see that pH, solphates, alcohol seem to affect the quality positively. Also, in general, red wine seems to be preferred to white wine. The volatile acidity and presence of chlorides seem to affect quality negatively."
   ]
  },
  {
   "cell_type": "markdown",
   "id": "bee18f69",
   "metadata": {},
   "source": [
    "Now we will try to beat this with a simple artificial neural network."
   ]
  },
  {
   "cell_type": "code",
   "execution_count": 16,
   "id": "f82f1e99",
   "metadata": {},
   "outputs": [],
   "source": [
    "device = 'cuda' if torch.cuda.is_available else 'cpu'"
   ]
  },
  {
   "cell_type": "code",
   "execution_count": 17,
   "id": "9c8677a3",
   "metadata": {},
   "outputs": [],
   "source": [
    "# Convert arrays from before to PyTorch tensors\n",
    "X_train = torch.tensor(X_train).type(torch.float).to(device)\n",
    "X_test = torch.tensor(X_test).type(torch.float).to(device)\n",
    "Y_train = torch.tensor(Y_train).type(torch.float).to(device)\n",
    "Y_test = torch.tensor(Y_test).type(torch.float).to(device)"
   ]
  },
  {
   "cell_type": "code",
   "execution_count": 18,
   "id": "9cdfce0d",
   "metadata": {},
   "outputs": [],
   "source": [
    "# Set up model class\n",
    "nodes = 64\n",
    "\n",
    "class WineModel(nn.Module):\n",
    "    def __init__(self):\n",
    "        super().__init__()\n",
    "        self.input = nn.Sequential(nn.Linear(12, nodes), \n",
    "                                   nn.ReLU())\n",
    "        self.mid = nn.Sequential(nn.Linear(nodes, nodes), \n",
    "                                 nn.ReLU(),\n",
    "                                nn.Linear(nodes, nodes), \n",
    "                                 nn.ReLU())\n",
    "        self.output = nn.Linear(nodes, 1)\n",
    "        \n",
    "    def forward(self, x):\n",
    "        return self.output(self.mid(self.input(x)))"
   ]
  },
  {
   "cell_type": "code",
   "execution_count": 19,
   "id": "01a75bca",
   "metadata": {},
   "outputs": [],
   "source": [
    "# Make instance of the class and set up MSE loss and SGD optimiser\n",
    "model_n = WineModel().to(device)\n",
    "\n",
    "loss2 = nn.MSELoss()\n",
    "optim = torch.optim.SGD(params = model_n.parameters(), lr = 0.0005)"
   ]
  },
  {
   "cell_type": "code",
   "execution_count": 20,
   "id": "abb3bb0a",
   "metadata": {},
   "outputs": [],
   "source": [
    "def training_step(epoch):\n",
    "    model_n.train()\n",
    "    train_preds = model_n(X_train).squeeze()\n",
    "    train_loss = loss2(train_preds, Y_train)\n",
    "    optim.zero_grad()\n",
    "    train_loss.backward()\n",
    "    optim.step()\n",
    "    \n",
    "    \n",
    "def test_step(epoch):\n",
    "    if epoch % 1000 == 0:\n",
    "        model_n.eval()\n",
    "        with torch.inference_mode():\n",
    "            test_preds_n = model_n(X_test).squeeze()\n",
    "            test_loss_n = loss1(test_preds_n, Y_test)\n",
    "    \n",
    "        print(f'Test loss is {test_loss_n.item()}. Epoch {epoch}, {epoch/epochs * 100:.0f}% done')"
   ]
  },
  {
   "cell_type": "code",
   "execution_count": 21,
   "id": "4dda0d20",
   "metadata": {
    "scrolled": true
   },
   "outputs": [
    {
     "name": "stdout",
     "output_type": "stream",
     "text": [
      "Test loss is 4.239583969116211. Epoch 0, 0% done\n",
      "Test loss is 0.7426581978797913. Epoch 1000, 1% done\n",
      "Test loss is 0.6868343353271484. Epoch 2000, 2% done\n",
      "Test loss is 0.6623643040657043. Epoch 3000, 3% done\n",
      "Test loss is 0.6521697640419006. Epoch 4000, 4% done\n",
      "Test loss is 0.646380603313446. Epoch 5000, 5% done\n",
      "Test loss is 0.6446167826652527. Epoch 6000, 6% done\n",
      "Test loss is 0.6368417143821716. Epoch 7000, 7% done\n",
      "Test loss is 0.6367495059967041. Epoch 8000, 8% done\n",
      "Test loss is 0.636471688747406. Epoch 9000, 9% done\n",
      "Test loss is 0.6290748119354248. Epoch 10000, 10% done\n",
      "Test loss is 0.6297575235366821. Epoch 11000, 11% done\n",
      "Test loss is 0.6285094022750854. Epoch 12000, 12% done\n",
      "Test loss is 0.6250753998756409. Epoch 13000, 13% done\n",
      "Test loss is 0.6284008026123047. Epoch 14000, 14% done\n",
      "Test loss is 0.6294510960578918. Epoch 15000, 15% done\n",
      "Test loss is 0.6220916509628296. Epoch 16000, 16% done\n",
      "Test loss is 0.6250001788139343. Epoch 17000, 17% done\n",
      "Test loss is 0.6212825775146484. Epoch 18000, 18% done\n",
      "Test loss is 0.6268807649612427. Epoch 19000, 19% done\n",
      "Test loss is 0.6222581267356873. Epoch 20000, 20% done\n",
      "Test loss is 0.6208356022834778. Epoch 21000, 21% done\n",
      "Test loss is 0.6214457154273987. Epoch 22000, 22% done\n",
      "Test loss is 0.6222911477088928. Epoch 23000, 23% done\n",
      "Test loss is 0.6191321611404419. Epoch 24000, 24% done\n",
      "Test loss is 0.6210492849349976. Epoch 25000, 25% done\n",
      "Test loss is 0.6188462972640991. Epoch 26000, 26% done\n",
      "Test loss is 0.6175197958946228. Epoch 27000, 27% done\n",
      "Test loss is 0.6187222599983215. Epoch 28000, 28% done\n",
      "Test loss is 0.6183618903160095. Epoch 29000, 29% done\n",
      "Test loss is 0.6205598711967468. Epoch 30000, 30% done\n",
      "Test loss is 0.6189765334129333. Epoch 31000, 31% done\n",
      "Test loss is 0.6211367845535278. Epoch 32000, 32% done\n",
      "Test loss is 0.6199536323547363. Epoch 33000, 33% done\n",
      "Test loss is 0.6158424019813538. Epoch 34000, 34% done\n",
      "Test loss is 0.6193979382514954. Epoch 35000, 35% done\n",
      "Test loss is 0.61495041847229. Epoch 36000, 36% done\n",
      "Test loss is 0.6165564656257629. Epoch 37000, 37% done\n",
      "Test loss is 0.6158904433250427. Epoch 38000, 38% done\n",
      "Test loss is 0.615075945854187. Epoch 39000, 39% done\n",
      "Test loss is 0.6183117628097534. Epoch 40000, 40% done\n",
      "Test loss is 0.6163620948791504. Epoch 41000, 41% done\n",
      "Test loss is 0.6168209314346313. Epoch 42000, 42% done\n",
      "Test loss is 0.616718590259552. Epoch 43000, 43% done\n",
      "Test loss is 0.6141045689582825. Epoch 44000, 44% done\n",
      "Test loss is 0.6131847500801086. Epoch 45000, 45% done\n",
      "Test loss is 0.6144157648086548. Epoch 46000, 46% done\n",
      "Test loss is 0.6154595613479614. Epoch 47000, 47% done\n",
      "Test loss is 0.6124618053436279. Epoch 48000, 48% done\n",
      "Test loss is 0.6173397898674011. Epoch 49000, 49% done\n",
      "Test loss is 0.6124193072319031. Epoch 50000, 50% done\n",
      "Test loss is 0.6124848127365112. Epoch 51000, 51% done\n",
      "Test loss is 0.6125118136405945. Epoch 52000, 52% done\n",
      "Test loss is 0.6112725138664246. Epoch 53000, 53% done\n",
      "Test loss is 0.6115823984146118. Epoch 54000, 54% done\n",
      "Test loss is 0.6130633354187012. Epoch 55000, 55% done\n",
      "Test loss is 0.6116818189620972. Epoch 56000, 56% done\n",
      "Test loss is 0.6114522814750671. Epoch 57000, 57% done\n",
      "Test loss is 0.6154376864433289. Epoch 58000, 58% done\n",
      "Test loss is 0.6153725981712341. Epoch 59000, 59% done\n",
      "Test loss is 0.6104195713996887. Epoch 60000, 60% done\n",
      "Test loss is 0.6107870936393738. Epoch 61000, 61% done\n",
      "Test loss is 0.6117995381355286. Epoch 62000, 62% done\n",
      "Test loss is 0.6145926117897034. Epoch 63000, 63% done\n",
      "Test loss is 0.611454963684082. Epoch 64000, 64% done\n",
      "Test loss is 0.6108080148696899. Epoch 65000, 65% done\n",
      "Test loss is 0.6103148460388184. Epoch 66000, 66% done\n",
      "Test loss is 0.6095422506332397. Epoch 67000, 67% done\n",
      "Test loss is 0.6096046566963196. Epoch 68000, 68% done\n",
      "Test loss is 0.6094141006469727. Epoch 69000, 69% done\n",
      "Test loss is 0.61235511302948. Epoch 70000, 70% done\n",
      "Test loss is 0.6096999645233154. Epoch 71000, 71% done\n",
      "Test loss is 0.6132134795188904. Epoch 72000, 72% done\n",
      "Test loss is 0.6090202927589417. Epoch 73000, 73% done\n",
      "Test loss is 0.6088342070579529. Epoch 74000, 74% done\n",
      "Test loss is 0.6130183339118958. Epoch 75000, 75% done\n",
      "Test loss is 0.6098940968513489. Epoch 76000, 76% done\n",
      "Test loss is 0.6120671629905701. Epoch 77000, 77% done\n",
      "Test loss is 0.6092165112495422. Epoch 78000, 78% done\n",
      "Test loss is 0.6104980707168579. Epoch 79000, 79% done\n",
      "Test loss is 0.610458493232727. Epoch 80000, 80% done\n",
      "Test loss is 0.6112087965011597. Epoch 81000, 81% done\n",
      "Test loss is 0.6076551079750061. Epoch 82000, 82% done\n",
      "Test loss is 0.61039799451828. Epoch 83000, 83% done\n",
      "Test loss is 0.6071767210960388. Epoch 84000, 84% done\n",
      "Test loss is 0.6090624332427979. Epoch 85000, 85% done\n",
      "Test loss is 0.605381429195404. Epoch 86000, 86% done\n",
      "Test loss is 0.6071900129318237. Epoch 87000, 87% done\n",
      "Test loss is 0.6111380457878113. Epoch 88000, 88% done\n",
      "Test loss is 0.6078253388404846. Epoch 89000, 89% done\n",
      "Test loss is 0.6060007810592651. Epoch 90000, 90% done\n",
      "Test loss is 0.6042973399162292. Epoch 91000, 91% done\n",
      "Test loss is 0.6059340834617615. Epoch 92000, 92% done\n",
      "Test loss is 0.6049971580505371. Epoch 93000, 93% done\n",
      "Test loss is 0.6065794229507446. Epoch 94000, 94% done\n",
      "Test loss is 0.6102437376976013. Epoch 95000, 95% done\n",
      "Test loss is 0.606703519821167. Epoch 96000, 96% done\n",
      "Test loss is 0.6066163182258606. Epoch 97000, 97% done\n",
      "Test loss is 0.605171263217926. Epoch 98000, 98% done\n",
      "Test loss is 0.6051238775253296. Epoch 99000, 99% done\n"
     ]
    }
   ],
   "source": [
    "# Train the neural network\n",
    "epochs = 100000\n",
    "for epoch in range(epochs):\n",
    "    training_step(epoch)\n",
    "    test_step(epoch)"
   ]
  },
  {
   "cell_type": "code",
   "execution_count": 22,
   "id": "fcff7ddf",
   "metadata": {},
   "outputs": [
    {
     "name": "stdout",
     "output_type": "stream",
     "text": [
      "Loss is 0.5984 for the neural network model, as compared to 0.6017 for the linear regression.\n",
      "Neural network accuracy is 53.00% while linear regression accuracy is 50.54%.\n"
     ]
    }
   ],
   "source": [
    "test_preds_n = model_n(X_test).squeeze()\n",
    "test_loss_n = loss1(test_preds_n, Y_test)\n",
    "test_acc_n = accuracy(test_preds_n.cpu().detach().numpy(), Y_test)\n",
    "\n",
    "print(f'Loss is {test_loss_n:.4f} for the neural network model, as compared to {test_loss_l:.4f} for the linear regression.')\n",
    "print(f'Neural network accuracy is {test_acc_n:.2f}% while linear regression accuracy is {test_acc_l:.2f}%.')"
   ]
  },
  {
   "cell_type": "markdown",
   "id": "c917aa45",
   "metadata": {},
   "source": [
    "This means that despite the extra time and computational power required to train a neural network, we have very comparable results. Furthermore, it is far more easy to infer things from a linear regression, as seen when we analysed the coefficients of our model earlier.\n",
    "\n",
    "It should be noted that this does not objectively prove that linear regressions are better than neural networks; in the case that data has more complicated relationships between variables, a neural network will almost certainly be preferable.\n",
    "\n",
    "However, we have shown that, when working with sufficiently 'simple' data, linear regressions are both easier to implement and as capable. To be more precise, 'simple' here refers to data having linear relationships between variables, or at least a close approximation to them."
   ]
  }
 ],
 "metadata": {
  "kernelspec": {
   "display_name": "Python 3 (ipykernel)",
   "language": "python",
   "name": "python3"
  },
  "language_info": {
   "codemirror_mode": {
    "name": "ipython",
    "version": 3
   },
   "file_extension": ".py",
   "mimetype": "text/x-python",
   "name": "python",
   "nbconvert_exporter": "python",
   "pygments_lexer": "ipython3",
   "version": "3.9.12"
  }
 },
 "nbformat": 4,
 "nbformat_minor": 5
}
